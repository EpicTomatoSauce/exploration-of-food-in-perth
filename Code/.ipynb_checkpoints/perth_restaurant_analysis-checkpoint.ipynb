{
 "cells": [
  {
   "cell_type": "markdown",
   "metadata": {},
   "source": [
    "### Types of Restuarants around the Perth Metropolitan Area"
   ]
  },
  {
   "cell_type": "code",
   "execution_count": null,
   "metadata": {},
   "outputs": [],
   "source": [
    "#dependencies et al.\n",
    "import matplotlib.pyplot as plt\n",
    "import json\n",
    "import requests\n",
    "import pandas as pd\n",
    "import numpy as np\n",
    "import time\n",
    "\n",
    "#api_keys\n",
    "import api_keys\n",
    "\n",
    "#central point of Perth CBD to define North and South\n",
    "central_lat = -32.0391738\n",
    "central_lng = 115.6813559\n"
   ]
  },
  {
   "cell_type": "code",
   "execution_count": null,
   "metadata": {},
   "outputs": [],
   "source": [
    "#bring in perth_metro_house_prices.csv\n",
    "load_csv = \"../data/perth_metro_house_prices.csv\"\n",
    "perth_house_prices = pd.read_csv(load_csv)\n",
    "perth_house_prices.head()"
   ]
  },
  {
   "cell_type": "code",
   "execution_count": null,
   "metadata": {},
   "outputs": [],
   "source": [
    "#create north_south column to distinguish suburb location vs perth CBD as central point\n",
    "north_south = []\n",
    "for row in perth_house_prices['LATITUDE']:\n",
    "    if row >= central_lat:north_south.append('NORTH')\n",
    "    else:\n",
    "        north_south.append('SOUTH')\n",
    "        \n",
    "perth_house_prices.insert(2, 'NORTH_SOUTH', north_south)\n",
    "perth_house_prices.head()"
   ]
  },
  {
   "cell_type": "code",
   "execution_count": null,
   "metadata": {},
   "outputs": [],
   "source": [
    "#create a smaller table to generate a groupby object to determine median house price by postcode and north / south.\n",
    "median_house_price_postcode = perth_house_prices[['POSTCODE',\n",
    "                                                  'SUBURB',\n",
    "                                                  'NORTH_SOUTH',\n",
    "                                                  'PRICE']]\n",
    "median_house_price_postcode.head()"
   ]
  },
  {
   "cell_type": "code",
   "execution_count": null,
   "metadata": {},
   "outputs": [],
   "source": [
    "#groupby on postcode\n",
    "grouped_median_house_price_postcode = median_house_price_postcode.groupby(['POSTCODE','SUBURB'])\n",
    "median_price_by_postcode_mean = grouped_median_house_price_postcode['PRICE'].mean()\n",
    "median_price_by_postcode = pd.DataFrame({\"Median House Price\":round(median_price_by_postcode_mean,0)})\n",
    "median_price_by_postcode.reset_index(inplace = True)\n",
    "median_price_by_postcode.head()"
   ]
  },
  {
   "cell_type": "code",
   "execution_count": null,
   "metadata": {},
   "outputs": [],
   "source": [
    "#groupby on north_south\n",
    "grouped_median_house_price_north_south = median_house_price_postcode.groupby(['NORTH_SOUTH'])\n",
    "median_price_by_north_south_mean = grouped_median_house_price_north_south['PRICE'].mean()\n",
    "median_price_by_north_south = pd.DataFrame({\"Median House Price\":round(median_price_by_north_south_mean,0)})\n",
    "median_price_by_north_south.head()"
   ]
  },
  {
   "cell_type": "code",
   "execution_count": null,
   "metadata": {},
   "outputs": [],
   "source": [
    "#bring in consolidated_census_data.csv for socio-demographic information by SSC_CODE - \n",
    "#used excel lookups to determine suburbs and postcodes and cross referenced against census metadata.\n",
    "load_csv = \"../data/consolidated_census_data.csv\"\n",
    "census_data = pd.read_csv(load_csv)\n",
    "census_data.head()"
   ]
  },
  {
   "cell_type": "code",
   "execution_count": null,
   "metadata": {},
   "outputs": [],
   "source": [
    "#remove unecessary columns\n",
    "census_data = census_data.drop(['SSC_CODE_2016','Suburb (Original)'], axis = 1)\n",
    "#show columns available in census_data\n",
    "list(census_data.columns.values)"
   ]
  },
  {
   "cell_type": "code",
   "execution_count": null,
   "metadata": {},
   "outputs": [],
   "source": [
    "median_price_by_postcode.dtypes"
   ]
  },
  {
   "cell_type": "code",
   "execution_count": null,
   "metadata": {},
   "outputs": [],
   "source": [
    "median_price_by_postcode['Median House Price'] = median_price_by_postcode['Median House Price'].astype(int)\n",
    "median_price_by_postcode.dtypes"
   ]
  },
  {
   "cell_type": "code",
   "execution_count": null,
   "metadata": {},
   "outputs": [],
   "source": [
    "census_data.dtypes"
   ]
  },
  {
   "cell_type": "code",
   "execution_count": null,
   "metadata": {},
   "outputs": [],
   "source": [
    "#merge census data with median_price_by_postcode\n",
    "pc_price_census_data = census_data.merge(right = median_price_by_postcode, \n",
    "                                         how = 'inner', \n",
    "                                         left_on = 'Suburb', \n",
    "                                         right_on = 'SUBURB')\n",
    "\n",
    "pc_price_census_data.head()"
   ]
  },
  {
   "cell_type": "code",
   "execution_count": null,
   "metadata": {},
   "outputs": [],
   "source": [
    "#quick check to see if any anomalies in suburbs list\n",
    "suburbs_list = pc_price_census_data['Suburb'].tolist()\n",
    "suburbs_list"
   ]
  },
  {
   "cell_type": "code",
   "execution_count": null,
   "metadata": {},
   "outputs": [],
   "source": [
    "print(f\"The number of suburbs in the dataframe is {len(suburbs_list)}.\")\n",
    "suburbs_list_unique = pc_price_census_data['Suburb'].unique().tolist()\n",
    "print(f\"The number of unique suburbs in the dataframe is {len(suburbs_list_unique)}.\\\n",
    "\\n-------------------------------------------\\\n",
    "\\nThere are {len(suburbs_list) - len(suburbs_list_unique)} suburbs duplicating.\")"
   ]
  },
  {
   "cell_type": "code",
   "execution_count": null,
   "metadata": {},
   "outputs": [],
   "source": [
    "pc_price_census_data = pc_price_census_data.drop(['POSTCODE','SUBURB'], axis = 1)\n",
    "pc_price_census_data = pc_price_census_data[['Postcode',\n",
    "                                            'Suburb',\n",
    "                                            'Suburb sqkm',\n",
    "                                            'Median House Price',\n",
    "                                            'Median Age (Persons)',\n",
    "                                            'Median Mortgage Repayments (Monthly)',\n",
    "                                            'Median Total Personal Income (Weekly)',\n",
    "                                            'Median Rent (Weekly)',\n",
    "                                            'Median Total Family Income (Weekly)',\n",
    "                                            'Average Number of Persons per Bedroom',\n",
    "                                            'Median Total Household Income (Weekly)',\n",
    "                                            'Average Household Size',\n",
    "                                            'People (0-14 year)',\n",
    "                                            'People (15-24 year)',\n",
    "                                            'People (25-34 year)',\n",
    "                                            'People (35-44 year)',\n",
    "                                            'People (45-54 year)',\n",
    "                                            'People (55-64 year)',\n",
    "                                            'People (65-74 year)',\n",
    "                                            'People (75-84 year)',\n",
    "                                            'People (85 and over year)',\n",
    "                                            'Total Number of People',\n",
    "                                            'Unemployment Rate (%)']]\n",
    "\n",
    "pc_price_census_data['Number of Restuarants'] = \"\"\n",
    "pc_price_census_data['Minimum Rating'] = \"\"\n",
    "pc_price_census_data['Maximum Rating'] = \"\"\n",
    "pc_price_census_data['Average Rating of Restuarants'] = \"\"\n",
    "pc_price_census_data['Total Number of Reviews'] = \"\"\n",
    "pc_price_census_data['Average Number of Reviews'] = \"\"\n",
    "pc_price_census_data['Minimum Price Level'] = \"\"\n",
    "pc_price_census_data['Maximum Price Level'] = \"\"\n",
    "pc_price_census_data['Average Price Level'] = \"\"\n",
    "\n",
    "list(pc_price_census_data.columns.values)"
   ]
  },
  {
   "cell_type": "code",
   "execution_count": null,
   "metadata": {},
   "outputs": [],
   "source": [
    "pc_price_census_data.to_csv(\"../Outputs/census_data_post_median_house_price.csv\", index=False)"
   ]
  },
  {
   "cell_type": "code",
   "execution_count": null,
   "metadata": {},
   "outputs": [],
   "source": [
    "pc_price_census_data.head()"
   ]
  },
  {
   "cell_type": "code",
   "execution_count": null,
   "metadata": {},
   "outputs": [],
   "source": [
    "from api_keys import g_key\n",
    "\n",
    "base_url = \"https://maps.googleapis.com/maps/api/place/textsearch/json\"\n",
    "\n",
    "params = {\n",
    "    \"region\" : \"AU-WA\",\n",
    "    \"business_status\" : \"operational\",\n",
    "    \"key\" : g_key\n",
    "}\n",
    "\n",
    "#place next for loop within loop that iterates through DF on 'Postcode'\n",
    "for index, row in pc_price_census_data.iterrows():\n",
    "    try:\n",
    "        postcode = row[\"Postcode\"]\n",
    "        suburb = row[\"Suburb\"]\n",
    "        params[\"query\"] = f\"Restuarants only in {postcode}\"\n",
    "        response = requests.get(base_url, params = params).json()\n",
    "        results = response['results']\n",
    "\n",
    "        print(f\"Results found for {suburb}, {postcode}.\\\n",
    "        \\n\")\n",
    "        #number of restuarants for column and also average calculations\n",
    "        pc_price_census_data.loc[index, \"Number of Restuarants\"] = len(results)\n",
    "        \n",
    "        #variables to test the following conditions on\n",
    "        min_rating = 9\n",
    "        max_rating = 0\n",
    "        sum_ratings = 0\n",
    "        total_number_reviews = 0\n",
    "        minimum_price_level = 9\n",
    "        maximum_price_level = 0\n",
    "        sum_price = 0\n",
    "        \n",
    "        #for loop to look through the list of restuarants in each json call\n",
    "        for restuarant in results:\n",
    "            try:\n",
    "                if restuarant['rating'] < min_rating:\n",
    "                    min_rating = restuarant['rating']\n",
    "\n",
    "                if restuarant['rating'] > max_rating:\n",
    "                    max_rating = restuarant['rating']\n",
    "\n",
    "                sum_ratings = sum_ratings + restuarant['rating']\n",
    "\n",
    "                total_number_reviews = total_number_reviews + restuarant['user_ratings_total']\n",
    "\n",
    "                if restuarant['price_level'] < minimum_price_level:\n",
    "                    minimum_price_level = restuarant['price_level']\n",
    "\n",
    "                if restuarant['price_level'] > maximum_price_level:\n",
    "                    maximum_price_level = restuarant['price_level']      \n",
    "\n",
    "                sum_price = sum_price + restuarant['price_level']\n",
    "\n",
    "            except (KeyError):\n",
    "                break\n",
    "        \n",
    "        #place results from the call into the relevant postcode column in df.\n",
    "        #for average calculations, note that zero division error is possible, to try / except block the error and print 0.\n",
    "        pc_price_census_data.loc[index, \"Minimum Rating\"] = min_rating\n",
    "        pc_price_census_data.loc[index, \"Maximum Rating\"] = max_rating\n",
    "        \n",
    "        try:\n",
    "            pc_price_census_data.loc[index, \"Average Rating of Restuarants\"] = sum_ratings / len(results)\n",
    "        except (ZeroDivisionError):\n",
    "            pc_price_census_data.loc[index, \"Average Rating of Restuarants\"] = 0\n",
    "        pc_price_census_data.loc[index, \"Total Number of Reviews\"] = total_number_reviews\n",
    "        \n",
    "        try:\n",
    "            pc_price_census_data.loc[index, \"Average Number of Reviews\"] = total_number_reviews / len(results)\n",
    "        except (ZeroDivisionError):\n",
    "            pc_price_census_data.loc[index, \"Average Number of Reviews\"] = 0\n",
    "            \n",
    "        pc_price_census_data.loc[index, \"Minimum Price Level\"] = minimum_price_level\n",
    "        pc_price_census_data.loc[index, \"Maximum Price Level\"] = maximum_price_level\n",
    "        \n",
    "        try:\n",
    "            pc_price_census_data.loc[index, \"Average Price Level\"] = sum_price / len(results)\n",
    "        except (ZeroDivisionError):\n",
    "            pc_price_census_data.loc[index, \"Average Price Level\"] = 0\n",
    "    \n",
    "    except (IndexError):\n",
    "        print(f\"No result found . . . skipped.\\\n",
    "        \\n\")\n",
    "        \n",
    "    time.sleep(1.01)\n",
    "\n",
    "print(f\"Search Complete\")\n"
   ]
  },
  {
   "cell_type": "code",
   "execution_count": null,
   "metadata": {},
   "outputs": [],
   "source": [
    "socioec_restuarant = pc_price_census_data\n",
    "socioec_restuarant['Restuarant Density'] = socioec_restuarant['Number of Restuarants'] / socioec_restuarant['Suburb sqkm']\n",
    "socioec_restuarant"
   ]
  },
  {
   "cell_type": "code",
   "execution_count": null,
   "metadata": {},
   "outputs": [],
   "source": [
    "#export dataframe to csv\n",
    "socioec_restuarant.to_csv(\"../Outputs/socio_demographic_restuarant_data.csv\", index=False)"
   ]
  },
  {
   "cell_type": "code",
   "execution_count": null,
   "metadata": {},
   "outputs": [],
   "source": [
    "#bring in wa_electorial_populations.csv\n",
    "load_csv = \"../data/wa_electorial_populations.csv\"\n",
    "wa_populations = pd.read_csv(load_csv)\n",
    "wa_populations.head()"
   ]
  },
  {
   "cell_type": "code",
   "execution_count": null,
   "metadata": {},
   "outputs": [],
   "source": []
  }
 ],
 "metadata": {
  "kernelspec": {
   "display_name": "Python [conda env:PythonData] *",
   "language": "python",
   "name": "conda-env-PythonData-py"
  },
  "language_info": {
   "codemirror_mode": {
    "name": "ipython",
    "version": 3
   },
   "file_extension": ".py",
   "mimetype": "text/x-python",
   "name": "python",
   "nbconvert_exporter": "python",
   "pygments_lexer": "ipython3",
   "version": "3.6.10"
  }
 },
 "nbformat": 4,
 "nbformat_minor": 4
}
